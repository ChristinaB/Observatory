{
 "cells": [
  {
   "cell_type": "markdown",
   "metadata": {},
   "source": [
    "# Retrieve NetCDF and model gridded climate time-series for a watershed\n",
    "\n",
    "### Case study:  the Sauk-Suiattle Watershed\n",
    "<img src=\"http://www.sauk-suiattle.com/images/Elliott.jpg\" \n",
    "style=\"float:right;width:150px;padding:20px\">\n",
    "\n",
    "### Use this Jupyter Notebook to:\n",
    "    1. HydroShare setup and preparation\n",
    "    2. Re-establish the paths to the mapping file\n",
    "    3. Compute daily, monthly, and annual temperature and precipitation statistics\n",
    "    4. Visualize precipitation results relative to the forcing data\n",
    "    5. Visualize the time-series trends\n",
    "    6. Save results back into HydroShare\n",
    "\n",
    "<br/><br/><br/>\n",
    "<img src=\"https://www.washington.edu/brand/files/2014/09/W-Logo_Purple_Hex.png\"\n",
    "style=\"float:right;width:150px;padding:20px\">\n",
    "\n",
    "<br/><br/>\n",
    "#### This data is compiled to digitally observe the watersheds, powered by HydroShare. <br/>Provided by the Watershed Dynamics Group, Dept. of Civil and Environmental Engineering, University of Washington"
   ]
  },
  {
   "cell_type": "markdown",
   "metadata": {},
   "source": [
    "## 1.  Prepare HydroShare Setup and Preparation\n",
    "\n",
    "To run this notebook, we must import several libaries. These are listed in order of 1) Python standard libraries, 2) hs_utils library provides functions for interacting with HydroShare, including resource querying, dowloading and creation, and 3) the observatory_gridded_hydromet library that is downloaded with this notebook. "
   ]
  },
  {
   "cell_type": "code",
   "execution_count": 2,
   "metadata": {},
   "outputs": [],
   "source": [
    "# silencing warning\n",
    "import warnings\n",
    "warnings.filterwarnings(\"ignore\")\n",
    "\n",
    "# data processing\n",
    "import os\n",
    "import pandas as pd, numpy as np, dask, json\n",
    "import seaborn as sns\n",
    "\n",
    "# data migration library\n",
    "import ogh\n",
    "import ogh_xarray_landlab as oxl\n",
    "from utilities import hydroshare\n",
    "from ecohydrology_model_functions import run_ecohydrology_model, plot_results\n",
    "InputFile = 'ecohyd_inputs.yaml'\n",
    "\n",
    "# plotting and shape libraries\n",
    "%matplotlib inline"
   ]
  },
  {
   "cell_type": "code",
   "execution_count": 3,
   "metadata": {},
   "outputs": [
    {
     "data": {
      "text/plain": [
       "['dailymet_bclivneh2013',\n",
       " 'dailymet_livneh2013',\n",
       " 'dailymet_livneh2015',\n",
       " 'dailyvic_livneh2013',\n",
       " 'dailyvic_livneh2015',\n",
       " 'dailywrf_bcsalathe2014',\n",
       " 'dailywrf_salathe2014']"
      ]
     },
     "execution_count": 3,
     "metadata": {},
     "output_type": "execute_result"
    }
   ],
   "source": [
    "# initialize ogh_meta\n",
    "meta_file = dict(ogh.ogh_meta())\n",
    "sorted(meta_file.keys())"
   ]
  },
  {
   "cell_type": "code",
   "execution_count": 4,
   "metadata": {},
   "outputs": [
    {
     "data": {
      "text/plain": [
       "['decision_steps',\n",
       " 'delimiter',\n",
       " 'domain',\n",
       " 'end_date',\n",
       " 'file_format',\n",
       " 'filename_structure',\n",
       " 'reference',\n",
       " 'spatial_resolution',\n",
       " 'start_date',\n",
       " 'subdomain',\n",
       " 'temporal_resolution',\n",
       " 'variable_info',\n",
       " 'variable_list',\n",
       " 'web_protocol']"
      ]
     },
     "execution_count": 4,
     "metadata": {},
     "output_type": "execute_result"
    }
   ],
   "source": [
    "sorted(meta_file['dailymet_livneh2013'].keys())"
   ]
  },
  {
   "cell_type": "markdown",
   "metadata": {},
   "source": [
    "Establish a secure connection with HydroShare by instantiating the hydroshare class that is defined within hs_utils. In addition to connecting with HydroShare, this command also sets and prints environment variables for several parameters that will be useful for saving work back to HydroShare. "
   ]
  },
  {
   "cell_type": "code",
   "execution_count": 5,
   "metadata": {
    "scrolled": false
   },
   "outputs": [
    {
     "name": "stdout",
     "output_type": "stream",
     "text": [
      "Adding the following system variables:\n",
      "   HS_USR_NAME = jphuong\n",
      "   HS_RES_ID = 70b977e22af544f8a7e5a803935c329c\n",
      "   HS_RES_TYPE = genericresource\n",
      "   JUPYTER_HUB_IP = jupyter.cuahsi.org\n",
      "\n",
      "These can be accessed using the following command: \n",
      "   os.environ[key]\n",
      "\n",
      "   (e.g.)\n",
      "   os.environ[\"HS_USR_NAME\"]  => jphuong\n",
      "Successfully established a connection with HydroShare\n"
     ]
    }
   ],
   "source": [
    "notebookdir = os.getcwd()\n",
    "\n",
    "hs=hydroshare.hydroshare()\n",
    "homedir = hs.getContentPath(os.environ[\"HS_RES_ID\"])\n",
    "os.chdir(homedir)"
   ]
  },
  {
   "cell_type": "markdown",
   "metadata": {},
   "source": [
    "If you are curious about where the data is being downloaded, click on the Jupyter Notebook dashboard icon to return to the File System view.  The homedir directory location printed above is where you can find the data and contents you will download to a HydroShare JupyterHub server.  At the end of this work session, you can migrate this data to the HydroShare iRods server as a Generic Resource. "
   ]
  },
  {
   "cell_type": "markdown",
   "metadata": {},
   "source": [
    "## 2. Get list of gridded climate points for the watershed\n",
    "\n",
    "For visualization purposes, we will also remap the study site shapefile, which is stored in HydroShare at the following url: https://www.hydroshare.org/resource/c532e0578e974201a0bc40a37ef2d284/. Since the shapefile was previously migrated, we can select 'N' for no overwriting.\n",
    "\n",
    "In the usecase1 notebook, the treatgeoself function identified the gridded cell centroid coordinates that overlap with our study site. These coordinates were documented within the mapping file, which will be remapped here. In the usecase2 notebook, the downloaded files were cataloged within the mapping file, so we will use the mappingfileSummary function to characterize the files available for Sauk-Suiattle for each gridded data product."
   ]
  },
  {
   "cell_type": "code",
   "execution_count": 6,
   "metadata": {
    "scrolled": true
   },
   "outputs": [
    {
     "name": "stdout",
     "output_type": "stream",
     "text": [
      "This resource already exists in your userspace.\n",
      "ef2d82bf960144b4bfb1bae6242bcc7f/\n",
      "|-- ef2d82bf960144b4bfb1bae6242bcc7f/\n",
      "|   |-- bagit.txt\n",
      "|   |-- manifest-md5.txt\n",
      "|   |-- readme.txt\n",
      "|   |-- tagmanifest-md5.txt\n",
      "|   |-- data/\n",
      "|   |   |-- resourcemap.xml\n",
      "|   |   |-- resourcemetadata.xml\n",
      "|   |   |-- contents/\n",
      "|   |   |   |-- NAmer_dem_list.cpg\n",
      "|   |   |   |-- NAmer_dem_list.dbf\n",
      "|   |   |   |-- NAmer_dem_list.prj\n",
      "|   |   |   |-- NAmer_dem_list.sbn\n",
      "|   |   |   |-- NAmer_dem_list.sbx\n",
      "|   |   |   |-- NAmer_dem_list.shp\n",
      "|   |   |   |-- NAmer_dem_list.shx\n",
      "\n",
      "Do you want to overwrite these data [Y/n]? n\n"
     ]
    },
    {
     "data": {
      "text/html": [
       "<b>Found the following file(s) associated with this HydroShare resource.</b>"
      ],
      "text/plain": [
       "<IPython.core.display.HTML object>"
      ]
     },
     "metadata": {},
     "output_type": "display_data"
    },
    {
     "data": {
      "text/html": [
       "NAmer_dem_list.cpg<br>NAmer_dem_list.dbf<br>NAmer_dem_list.prj<br>NAmer_dem_list.sbn<br>NAmer_dem_list.sbx<br>NAmer_dem_list.shp<br>NAmer_dem_list.shx"
      ],
      "text/plain": [
       "<IPython.core.display.HTML object>"
      ]
     },
     "metadata": {},
     "output_type": "display_data"
    },
    {
     "data": {
      "text/html": [
       "These files are stored in a dictionary called <b>hs.content</b> for your convenience.  To access a file, simply issue the following command where MY_FILE is one of the files listed above: <pre>hs.content[\"MY_FILE\"] </pre> "
      ],
      "text/plain": [
       "<IPython.core.display.HTML object>"
      ]
     },
     "metadata": {},
     "output_type": "display_data"
    },
    {
     "name": "stdout",
     "output_type": "stream",
     "text": [
      "This resource already exists in your userspace.\n",
      "c532e0578e974201a0bc40a37ef2d284/\n",
      "|-- c532e0578e974201a0bc40a37ef2d284/\n",
      "|   |-- bagit.txt\n",
      "|   |-- manifest-md5.txt\n",
      "|   |-- readme.txt\n",
      "|   |-- tagmanifest-md5.txt\n",
      "|   |-- data/\n",
      "|   |   |-- resourcemap.xml\n",
      "|   |   |-- resourcemetadata.xml\n",
      "|   |   |-- contents/\n",
      "|   |   |   |-- wbdhub12_17110006_WGS84_Basin.cpg\n",
      "|   |   |   |-- wbdhub12_17110006_WGS84_Basin.shp\n",
      "|   |   |   |-- wbdhub12_17110006_WGS84_Basin.shx\n",
      "|   |   |   |-- wbdhub12_17110006_WGS84_Basin.dbf\n",
      "|   |   |   |-- wbdhub12_17110006_WGS84_Basin.prj\n",
      "\n",
      "Do you want to overwrite these data [Y/n]? n\n"
     ]
    },
    {
     "data": {
      "text/html": [
       "<b>Found the following file(s) associated with this HydroShare resource.</b>"
      ],
      "text/plain": [
       "<IPython.core.display.HTML object>"
      ]
     },
     "metadata": {},
     "output_type": "display_data"
    },
    {
     "data": {
      "text/html": [
       "wbdhub12_17110006_WGS84_Basin.cpg<br>wbdhub12_17110006_WGS84_Basin.shp<br>wbdhub12_17110006_WGS84_Basin.shx<br>wbdhub12_17110006_WGS84_Basin.dbf<br>wbdhub12_17110006_WGS84_Basin.prj"
      ],
      "text/plain": [
       "<IPython.core.display.HTML object>"
      ]
     },
     "metadata": {},
     "output_type": "display_data"
    },
    {
     "data": {
      "text/html": [
       "These files are stored in a dictionary called <b>hs.content</b> for your convenience.  To access a file, simply issue the following command where MY_FILE is one of the files listed above: <pre>hs.content[\"MY_FILE\"] </pre> "
      ],
      "text/plain": [
       "<IPython.core.display.HTML object>"
      ]
     },
     "metadata": {},
     "output_type": "display_data"
    }
   ],
   "source": [
    "\"\"\"\n",
    "1/16-degree Gridded cell centroids\n",
    "\"\"\"\n",
    "# List of available data\n",
    "hs.getResourceFromHydroShare('ef2d82bf960144b4bfb1bae6242bcc7f')\n",
    "NAmer = hs.content['NAmer_dem_list.shp']\n",
    "\n",
    "\n",
    "\"\"\"\n",
    "Sauk\n",
    "\"\"\"\n",
    "# Watershed extent\n",
    "hs.getResourceFromHydroShare('c532e0578e974201a0bc40a37ef2d284')\n",
    "sauk = hs.content['wbdhub12_17110006_WGS84_Basin.shp']\n",
    "\n",
    "# reproject the shapefile into WGS84\n",
    "ogh.reprojShapefile(sourcepath=sauk)"
   ]
  },
  {
   "cell_type": "markdown",
   "metadata": {},
   "source": [
    "### Summarize the file availability from each watershed mapping file"
   ]
  },
  {
   "cell_type": "code",
   "execution_count": 7,
   "metadata": {},
   "outputs": [
    {
     "name": "stdout",
     "output_type": "stream",
     "text": [
      "(99, 4)\n",
      "   FID       LAT      LONG_    ELEV\n",
      "0    0  48.53125 -121.59375  1113.0\n",
      "1    1  48.46875 -121.46875   646.0\n",
      "2    2  48.46875 -121.53125   321.0\n",
      "3    3  48.46875 -121.59375   164.0\n",
      "4    4  48.46875 -121.65625   369.0\n",
      "CPU times: user 17.3 s, sys: 447 ms, total: 17.7 s\n",
      "Wall time: 17.8 s\n"
     ]
    }
   ],
   "source": [
    "%%time\n",
    "\n",
    "# map the mappingfiles from usecase1\n",
    "mappingfile1=ogh.treatgeoself(shapefile=sauk, NAmer=NAmer, buffer_distance=0.06,\n",
    "                              mappingfile=os.path.join(homedir,'Sauk_mappingfile.csv'))"
   ]
  },
  {
   "cell_type": "markdown",
   "metadata": {},
   "source": [
    "## 3.  Compare Hydrometeorology \n",
    "\n",
    "This section performs computations and generates plots of the Livneh 2013 and Salathe 2014 mean temperature and mean total monthly precipitation in order to compare them with each other. The generated plots are automatically downloaded and saved as .png files within the \"homedir\" directory.\n",
    "\n",
    "Let's compare the Livneh 2013 and Salathe 2014 using the period of overlapping history."
   ]
  },
  {
   "cell_type": "code",
   "execution_count": 8,
   "metadata": {},
   "outputs": [
    {
     "name": "stdout",
     "output_type": "stream",
     "text": [
      "Help on function getDailyWRF_salathe2014 in module ogh.ogh:\n",
      "\n",
      "getDailyWRF_salathe2014(homedir, mappingfile, subdir='salathe2014/WWA_1950_2010/raw', catalog_label='dailywrf_salathe2014')\n",
      "    Get the Salathe el al., 2014 raw Daily WRF files of interest using the reference mapping file\n",
      "    \n",
      "    homedir: (dir) the home directory to be used for establishing subdirectories\n",
      "    mappingfile: (dir) the file path to the mappingfile, which contains LAT, LONG_, and ELEV coordinates of interest\n",
      "    subdir: (dir) the subdirectory to be established under homedir\n",
      "    catalog_label: (str) the preferred name for the series of catalogged filepaths\n",
      "\n"
     ]
    }
   ],
   "source": [
    "help(ogh.getDailyWRF_salathe2014)"
   ]
  },
  {
   "cell_type": "code",
   "execution_count": 9,
   "metadata": {},
   "outputs": [
    {
     "name": "stdout",
     "output_type": "stream",
     "text": [
      "Help on function get_x_dailywrf_Salathe2014 in module ogh_xarray_landlab:\n",
      "\n",
      "get_x_dailywrf_Salathe2014(homedir, spatialbounds, subdir='salathe2014/Daily_WRF_1970_1999/noBC', nworkers=4, start_date='1970-01-01', end_date='1989-12-31', rename_timelatlong_names={'LAT': 'LAT', 'LON': 'LON'}, file_prefix='sp_', replace_file=True)\n",
      "    get Daily WRF data from Salathe et al. (2014) using xarray on netcdf files\n",
      "\n"
     ]
    }
   ],
   "source": [
    "help(oxl.get_x_dailywrf_Salathe2014)"
   ]
  },
  {
   "cell_type": "markdown",
   "metadata": {},
   "source": [
    "## NetCDF retrieval and clipping to a spatial extent\n",
    "\n",
    "The function get_x_dailywrf_salathe2014 retrieves and clips NetCDF files archived within the UW Rocinante NNRP repository. This archive contains daily data from January 1970 through December 1979 (10 years). Each netcdf file is comprised of meteorologic and VIC hydrologic outputs for a calendar month. The expected number of files would be 360 files (12 months for 30 years). \n",
    "\n",
    "In the code chunk below, 40 parallel workers will be initialized to distribute file retrieval and spatial clipping tasks. For each worker, they will wget the requested file, clip the netcdf file to gridded cell centroids within the the provided bounding box, then return the location of the spatially clipped output files.\n",
    "\n",
    "Provide the home and subdirectory where the cropped NetCDF files will be stored. Also provide the spatial bounds (in WGS84) to crop the NetCDF files upon download. Finally, provide the number of workers to carry out the download tasks, and the start and end date of the files of interest."
   ]
  },
  {
   "cell_type": "code",
   "execution_count": 10,
   "metadata": {},
   "outputs": [
    {
     "name": "stdout",
     "output_type": "stream",
     "text": [
      "Number of gridded data files:99\n",
      "Minimum elevation: 164.0m\n",
      "Mean elevation: 1151.040404040404m\n",
      "Maximum elevation: 2216.0m\n",
      "[########################################] | 100% Completed |  5min 47.3s\n"
     ]
    }
   ],
   "source": [
    "maptable, nstations = ogh.mappingfileToDF(mappingfile1)\n",
    "spatialbounds = {'minx':maptable.LONG_.min(), 'maxx':maptable.LONG_.max(),\n",
    "                 'miny':maptable.LAT.min(), 'maxy':maptable.LAT.max()}\n",
    "\n",
    "outputfiles = oxl.get_x_dailywrf_Salathe2014(homedir=homedir,\n",
    "                                             subdir='salathe2014/Daily_WRF_1970_1979/noBC_netcdf',\n",
    "                                             spatialbounds=spatialbounds,\n",
    "                                             nworkers=40,\n",
    "                                             start_date='1970-01-01', end_date='1979-12-31')"
   ]
  },
  {
   "cell_type": "markdown",
   "metadata": {},
   "source": [
    "### Convert collection of NetCDF files into a collection of ASCII files\n",
    "\n",
    "Provide the home and subdirectory where the ASCII files will be stored, the source_directory of netCDF files, and the mapping file to which the resulting ASCII files will be cataloged. Also, provide the Pandas Datetime code for the frequency of the time steps. Finally, provide the catalog label that will be used for the mapping file catalog and the metadata file label."
   ]
  },
  {
   "cell_type": "code",
   "execution_count": 11,
   "metadata": {},
   "outputs": [
    {
     "name": "stdout",
     "output_type": "stream",
     "text": [
      "[########################################] | 100% Completed |  0.5s\n",
      "[########################################] | 100% Completed |  0.4s\n",
      "[########################################] | 100% Completed |  0.4s\n",
      "[########################################] | 100% Completed |  0.4s\n",
      "[########################################] | 100% Completed |  0.5s\n",
      "[########################################] | 100% Completed |  0.4s\n",
      "[########################################] | 100% Completed |  0.4s\n",
      "[########################################] | 100% Completed |  0.4s\n",
      "[########################################] | 100% Completed |  0.4s\n",
      "[########################################] | 100% Completed |  0.4s\n",
      "[########################################] | 100% Completed |  0.4s\n",
      "[########################################] | 100% Completed |  0.4s\n",
      "[########################################] | 100% Completed |  0.4s\n",
      "[########################################] | 100% Completed |  0.4s\n",
      "[########################################] | 100% Completed |  0.4s\n",
      "[########################################] | 100% Completed |  0.4s\n",
      "[########################################] | 100% Completed |  0.4s\n",
      "[########################################] | 100% Completed |  0.4s\n",
      "[########################################] | 100% Completed |  0.4s\n",
      "[########################################] | 100% Completed |  0.4s\n",
      "[########################################] | 100% Completed |  0.4s\n",
      "[########################################] | 100% Completed |  0.4s\n",
      "[########################################] | 100% Completed |  0.4s\n",
      "[########################################] | 100% Completed |  0.4s\n",
      "[########################################] | 100% Completed |  0.4s\n",
      "[########################################] | 100% Completed | 17.5s\n",
      "[########################################] | 100% Completed | 17.5s\n",
      "CPU times: user 37.9 s, sys: 3.53 s, total: 41.4 s\n",
      "Wall time: 42.5 s\n"
     ]
    }
   ],
   "source": [
    "%%time\n",
    "# convert the netCDF files into daily ascii time-series files for each gridded location\n",
    "outfilelist = oxl.netcdf_to_ascii(homedir=homedir, \n",
    "                                  subdir='salathe2014/Daily_WRF_1970_1979/noBC_ascii', \n",
    "                                  source_directory=os.path.join(homedir, 'salathe2014/Daily_WRF_1970_1979/noBC_netcdf'),\n",
    "                                  mappingfile=mappingfile1,\n",
    "                                  temporal_resolution='D',\n",
    "                                  meta_file=meta_file,\n",
    "                                  catalog_label='sp_WRF_NNRP_noBC_1970_1979')"
   ]
  },
  {
   "cell_type": "code",
   "execution_count": 12,
   "metadata": {},
   "outputs": [],
   "source": [
    "# Save the metadata\n",
    "ogh.saveDictOfDf(dictionaryObject=meta_file, outfilepath='test.json')"
   ]
  },
  {
   "cell_type": "code",
   "execution_count": 13,
   "metadata": {},
   "outputs": [
    {
     "data": {
      "text/html": [
       "<div>\n",
       "<style scoped>\n",
       "    .dataframe tbody tr th:only-of-type {\n",
       "        vertical-align: middle;\n",
       "    }\n",
       "\n",
       "    .dataframe tbody tr th {\n",
       "        vertical-align: top;\n",
       "    }\n",
       "\n",
       "    .dataframe thead tr th {\n",
       "        text-align: left;\n",
       "    }\n",
       "</style>\n",
       "<table border=\"1\" class=\"dataframe\">\n",
       "  <thead>\n",
       "    <tr>\n",
       "      <th>Watershed</th>\n",
       "      <th>Sauk-Suiattle river</th>\n",
       "    </tr>\n",
       "    <tr>\n",
       "      <th>Median elevation in meters [range](Number of gridded cells)</th>\n",
       "      <th>1171[164-2216] (n=99)</th>\n",
       "    </tr>\n",
       "  </thead>\n",
       "  <tbody>\n",
       "    <tr>\n",
       "      <th>sp_WRF_NNRP_noBC_1970_1979</th>\n",
       "      <td>1171[164-2216] (n=99)</td>\n",
       "    </tr>\n",
       "  </tbody>\n",
       "</table>\n",
       "</div>"
      ],
      "text/plain": [
       "Watershed                                                      Sauk-Suiattle river\n",
       "Median elevation in meters [range](Number of gridded cells)  1171[164-2216] (n=99)\n",
       "sp_WRF_NNRP_noBC_1970_1979                                   1171[164-2216] (n=99)"
      ]
     },
     "execution_count": 13,
     "metadata": {},
     "output_type": "execute_result"
    }
   ],
   "source": [
    "t1 = ogh.mappingfileSummary(listofmappingfiles = [mappingfile1], \n",
    "                            listofwatershednames = ['Sauk-Suiattle river'],\n",
    "                            meta_file=meta_file)\n",
    "\n",
    "t1"
   ]
  },
  {
   "cell_type": "markdown",
   "metadata": {},
   "source": [
    "### Create a dictionary of climate variables for the long-term mean (ltm).\n",
    "#### INPUT: gridded meteorology ASCII files located from the Sauk-Suiattle Mapping file. The inputs to gridclim_dict() include the folder location and name of the hydrometeorology data, the file start and end, the analysis start and end, and the elevation band to be included in the analsyis (max and min elevation). <br/>OUTPUT: dictionary of dataframes where rows are temporal summaries and columns are spatial summaries"
   ]
  },
  {
   "cell_type": "code",
   "execution_count": 14,
   "metadata": {
    "scrolled": true
   },
   "outputs": [
    {
     "name": "stdout",
     "output_type": "stream",
     "text": [
      "Number of data files within elevation range (164.0-2216.0 m): 99\n",
      "[########################################] | 100% Completed |  1.2s\n",
      "[########################################] | 100% Completed |  1.2s\n",
      "PREC dataframe reading complete:0:00:01.373981\n",
      "[########################################] | 100% Completed |  1.3s\n",
      "[########################################] | 100% Completed |  1.4s\n",
      "TMAX dataframe reading complete:0:00:02.914047\n",
      "[########################################] | 100% Completed |  1.0s\n",
      "[########################################] | 100% Completed |  1.0s\n",
      "TMIN dataframe reading complete:0:00:04.090894\n",
      "[########################################] | 100% Completed |  0.1s\n",
      "[########################################] | 100% Completed |  0.2s\n",
      "[########################################] | 100% Completed |  0.1s\n",
      "[########################################] | 100% Completed |  0.2s\n",
      "PREC_sp_WRF_NNRP_noBC_1970_1979 calculations completed in 0:00:00.429605\n",
      "[########################################] | 100% Completed |  0.1s\n",
      "[########################################] | 100% Completed |  0.2s\n",
      "[########################################] | 100% Completed |  0.1s\n",
      "[########################################] | 100% Completed |  0.2s\n",
      "TMAX_sp_WRF_NNRP_noBC_1970_1979 calculations completed in 0:00:00.427810\n",
      "[########################################] | 100% Completed |  0.1s\n",
      "[########################################] | 100% Completed |  0.2s\n",
      "[########################################] | 100% Completed |  0.1s\n",
      "[########################################] | 100% Completed |  0.2s\n",
      "TMIN_sp_WRF_NNRP_noBC_1970_1979 calculations completed in 0:00:00.424560\n",
      "CPU times: user 8.25 s, sys: 597 ms, total: 8.84 s\n",
      "Wall time: 5.39 s\n"
     ]
    }
   ],
   "source": [
    "%%time\n",
    "\n",
    "ltm = ogh.gridclim_dict(mappingfile=mappingfile1,\n",
    "                        metadata=meta_file,\n",
    "                        dataset='sp_WRF_NNRP_noBC_1970_1979',\n",
    "                        variable_list=['PREC','TMAX','TMIN'])\n",
    "\n",
    "sorted(ltm.keys())"
   ]
  },
  {
   "cell_type": "markdown",
   "metadata": {},
   "source": [
    "### Compute the total monthly and yearly precipitation, as well as the mean values across time and across stations\n",
    "#### INPUT: daily precipitation for each station from the long-term mean dictionary (ltm) <br/>OUTPUT: Append the computed dataframes and values into the ltm dictionary"
   ]
  },
  {
   "cell_type": "code",
   "execution_count": 15,
   "metadata": {},
   "outputs": [
    {
     "name": "stdout",
     "output_type": "stream",
     "text": [
      "[########################################] | 100% Completed |  0.1s\n",
      "[########################################] | 100% Completed |  0.2s\n",
      "[########################################] | 100% Completed |  0.1s\n",
      "[########################################] | 100% Completed |  0.1s\n",
      "PREC_sp_WRF_NNRP_noBC_1970_1979 calculations completed in 0:00:00.332657\n"
     ]
    }
   ],
   "source": [
    "# extract metadata\n",
    "dr = meta_file['sp_WRF_NNRP_noBC_1970_1979']\n",
    "\n",
    "# compute sums and mean monthly an yearly sums\n",
    "ltm = ogh.aggregate_space_time_sum(df_dict=ltm,\n",
    "                                   suffix='PREC_sp_WRF_NNRP_noBC_1970_1979',\n",
    "                                   start_date=dr['start_date'],\n",
    "                                   end_date=dr['end_date'])"
   ]
  },
  {
   "cell_type": "code",
   "execution_count": 16,
   "metadata": {},
   "outputs": [
    {
     "data": {
      "text/plain": [
       "['PREC_sp_WRF_NNRP_noBC_1970_1979',\n",
       " 'TMAX_sp_WRF_NNRP_noBC_1970_1979',\n",
       " 'TMIN_sp_WRF_NNRP_noBC_1970_1979',\n",
       " 'anomyear_PREC_sp_WRF_NNRP_noBC_1970_1979',\n",
       " 'anomyear_TMAX_sp_WRF_NNRP_noBC_1970_1979',\n",
       " 'anomyear_TMIN_sp_WRF_NNRP_noBC_1970_1979',\n",
       " 'meanalldailysum_PREC_sp_WRF_NNRP_noBC_1970_1979',\n",
       " 'meanallmonthsum_PREC_sp_WRF_NNRP_noBC_1970_1979',\n",
       " 'meanallyear_PREC_sp_WRF_NNRP_noBC_1970_1979',\n",
       " 'meanallyear_TMAX_sp_WRF_NNRP_noBC_1970_1979',\n",
       " 'meanallyear_TMIN_sp_WRF_NNRP_noBC_1970_1979',\n",
       " 'meanallyearsum_PREC_sp_WRF_NNRP_noBC_1970_1979',\n",
       " 'meanbydaily_PREC_sp_WRF_NNRP_noBC_1970_1979',\n",
       " 'meanbydaily_TMAX_sp_WRF_NNRP_noBC_1970_1979',\n",
       " 'meanbydaily_TMIN_sp_WRF_NNRP_noBC_1970_1979',\n",
       " 'meanbymonth_PREC_sp_WRF_NNRP_noBC_1970_1979',\n",
       " 'meanbymonth_TMAX_sp_WRF_NNRP_noBC_1970_1979',\n",
       " 'meanbymonth_TMIN_sp_WRF_NNRP_noBC_1970_1979',\n",
       " 'meanbymonthsum_PREC_sp_WRF_NNRP_noBC_1970_1979',\n",
       " 'meanbyyear_PREC_sp_WRF_NNRP_noBC_1970_1979',\n",
       " 'meanbyyear_TMAX_sp_WRF_NNRP_noBC_1970_1979',\n",
       " 'meanbyyear_TMIN_sp_WRF_NNRP_noBC_1970_1979',\n",
       " 'meanbyyearsum_PREC_sp_WRF_NNRP_noBC_1970_1979',\n",
       " 'meandaily_PREC_sp_WRF_NNRP_noBC_1970_1979',\n",
       " 'meandaily_TMAX_sp_WRF_NNRP_noBC_1970_1979',\n",
       " 'meandaily_TMIN_sp_WRF_NNRP_noBC_1970_1979',\n",
       " 'meanmonth_PREC_sp_WRF_NNRP_noBC_1970_1979',\n",
       " 'meanmonth_TMAX_sp_WRF_NNRP_noBC_1970_1979',\n",
       " 'meanmonth_TMIN_sp_WRF_NNRP_noBC_1970_1979',\n",
       " 'meanmonthsum_PREC_sp_WRF_NNRP_noBC_1970_1979',\n",
       " 'meanyear_PREC_sp_WRF_NNRP_noBC_1970_1979',\n",
       " 'meanyear_TMAX_sp_WRF_NNRP_noBC_1970_1979',\n",
       " 'meanyear_TMIN_sp_WRF_NNRP_noBC_1970_1979',\n",
       " 'meanyearsum_PREC_sp_WRF_NNRP_noBC_1970_1979',\n",
       " 'monthsum_PREC_sp_WRF_NNRP_noBC_1970_1979',\n",
       " 'yearsum_PREC_sp_WRF_NNRP_noBC_1970_1979']"
      ]
     },
     "execution_count": 16,
     "metadata": {},
     "output_type": "execute_result"
    }
   ],
   "source": [
    "# print the name of the analytical dataframes and values within ltm\n",
    "sorted(ltm.keys())"
   ]
  },
  {
   "cell_type": "code",
   "execution_count": 17,
   "metadata": {},
   "outputs": [],
   "source": [
    "# initialize list of outputs\n",
    "files=[]\n",
    "\n",
    "# create the destination path for the dictionary of dataframes\n",
    "ltm_sauk=os.path.join(homedir, 'ltm_1970_1979_sauk.json')\n",
    "ogh.saveDictOfDf(dictionaryObject=ltm, outfilepath=ltm_sauk)\n",
    "files.append(ltm_sauk)\n",
    "\n",
    "# append the mapping file for Sauk-Suiattle gridded cell centroids\n",
    "files.append(mappingfile1)"
   ]
  },
  {
   "cell_type": "markdown",
   "metadata": {},
   "source": [
    "### Visualize the \"average monthly total precipitations\"\n",
    "\n",
    "#### INPUT: dataframe with each month as a row and each station as a column. <br/>OUTPUT: A png file that represents the distribution across stations (in Wateryear order)"
   ]
  },
  {
   "cell_type": "code",
   "execution_count": 18,
   "metadata": {},
   "outputs": [
    {
     "data": {
      "text/plain": [
       "[(69, 48.09375, -121.09375),\n",
       " (3, 48.46875, -121.59375),\n",
       " (24, 48.34375, -121.53125)]"
      ]
     },
     "execution_count": 18,
     "metadata": {},
     "output_type": "execute_result"
    }
   ],
   "source": [
    "# # two lowest elevation locations\n",
    "lowE_ref = ogh.findCentroidCode(mappingfile=mappingfile1, colvar='ELEV', colvalue=164)\n",
    "\n",
    "# one highest elevation location\n",
    "highE_ref = ogh.findCentroidCode(mappingfile=mappingfile1, colvar='ELEV', colvalue=2216)\n",
    "\n",
    "# combine references together\n",
    "reference_lines = highE_ref + lowE_ref\n",
    "reference_lines\n"
   ]
  },
  {
   "cell_type": "code",
   "execution_count": 24,
   "metadata": {},
   "outputs": [
    {
     "name": "stderr",
     "output_type": "stream",
     "text": [
      "No handles with labels found to put in legend.\n"
     ]
    },
    {
     "data": {
      "image/png": "[encoded data removed]",
      "text/plain": [
       "<Figure size 432x432 with 1 Axes>"
      ]
     },
     "metadata": {},
     "output_type": "display_data"
    },
    {
     "data": {
      "text/plain": [
       "<matplotlib.axes._subplots.AxesSubplot at 0x7fa08afb4438>"
      ]
     },
     "execution_count": 24,
     "metadata": {},
     "output_type": "execute_result"
    }
   ],
   "source": [
    "ogh.renderValueInBoxplot(ltm['meanbymonthsum_PREC_sp_WRF_NNRP_noBC_1970_1979'],\n",
    "                         outfilepath='totalMonthlyRainfall.png', \n",
    "                         plottitle='Total monthly rainfall',\n",
    "                         time_steps='month',\n",
    "                         wateryear=True,\n",
    "                         reference_lines=reference_lines,\n",
    "                         ref_legend=True,\n",
    "                         value_name='Total daily precipitation (mm)',\n",
    "                         cmap='seismic_r',\n",
    "                         figsize=(6,6))"
   ]
  },
  {
   "cell_type": "code",
   "execution_count": 29,
   "metadata": {},
   "outputs": [
    {
     "data": {
      "image/png": "[encoded data removed]",
      "text/plain": [
       "<Figure size 750x750 with 2 Axes>"
      ]
     },
     "metadata": {},
     "output_type": "display_data"
    }
   ],
   "source": [
    "ogh.renderValuesInPoints(ltm['meanbymonthsum_PREC_sp_WRF_NNRP_noBC_1970_1979'], \n",
    "                         vardf_dateindex=12, \n",
    "                         shapefile=sauk, \n",
    "                         cmap='seismic_r',\n",
    "                         outfilepath='test.png', \n",
    "                         plottitle='December total rainfall',\n",
    "                         colorbar_label='Total monthly rainfall (mm)', \n",
    "                         figsize=(1.5,1.5))"
   ]
  },
  {
   "cell_type": "code",
   "execution_count": 30,
   "metadata": {
    "scrolled": true
   },
   "outputs": [
    {
     "name": "stdout",
     "output_type": "stream",
     "text": [
      "Number of gridded data files:99\n",
      "Minimum elevation: 164.0m\n",
      "Mean elevation: 1151.040404040404m\n",
      "Maximum elevation: 2216.0m\n"
     ]
    },
    {
     "data": {
      "text/plain": [
       "<Figure size 5000x5000 with 0 Axes>"
      ]
     },
     "metadata": {},
     "output_type": "display_data"
    }
   ],
   "source": [
    "minx2, miny2, maxx2, maxy2 = oxl.calculateUTMbounds(mappingfile=mappingfile1,\n",
    "                                                    mappingfile_crs={'init':'epsg:4326'},\n",
    "                                                    spatial_resolution=0.06250)"
   ]
  },
  {
   "cell_type": "code",
   "execution_count": 31,
   "metadata": {},
   "outputs": [
    {
     "data": {
      "text/plain": [
       "(115.26040113876661, -87.99363603095117, 65333.46979869377, 76402.0986115007)"
      ]
     },
     "execution_count": 31,
     "metadata": {},
     "output_type": "execute_result"
    }
   ],
   "source": [
    "minx2, miny2, maxx2, maxy2"
   ]
  },
  {
   "cell_type": "code",
   "execution_count": 33,
   "metadata": {},
   "outputs": [
    {
     "data": {
      "text/plain": [
       "(766, 655)"
      ]
     },
     "execution_count": 33,
     "metadata": {},
     "output_type": "execute_result"
    }
   ],
   "source": [
    "# generate a raster\n",
    "raster, row_list, col_list = oxl.rasterDimensions (minx=minx2, miny=miny2, maxx=maxx2, maxy=maxy2, dx=1000, dy=100)\n",
    "raster.shape"
   ]
  },
  {
   "cell_type": "markdown",
   "metadata": {},
   "source": [
    "# Higher resolution children of gridded cells \n",
    "### get data from Lower resolution parent grid cells to the children"
   ]
  },
  {
   "cell_type": "code",
   "execution_count": 34,
   "metadata": {},
   "outputs": [
    {
     "name": "stdout",
     "output_type": "stream",
     "text": [
      "Help on function mappingfileToRaster in module ogh_xarray_landlab:\n",
      "\n",
      "mappingfileToRaster(mappingfile, maxx, maxy, minx=0, miny=0, dx=100, dy=100, spatial_resolution=0.0625, mappingfile_crs={'init': 'epsg:4326'}, raster_crs={'init': 'epsg:3857'})\n",
      "\n"
     ]
    }
   ],
   "source": [
    "help(oxl.mappingfileToRaster)"
   ]
  },
  {
   "cell_type": "code",
   "execution_count": 35,
   "metadata": {},
   "outputs": [
    {
     "name": "stdout",
     "output_type": "stream",
     "text": [
      "Number of gridded data files:99\n",
      "Minimum elevation: 164.0m\n",
      "Mean elevation: 1151.040404040404m\n",
      "Maximum elevation: 2216.0m\n",
      "Warning: CRS does not match!\n",
      "CPU times: user 2min 3s, sys: 0 ns, total: 2min 3s\n",
      "Wall time: 2min 3s\n"
     ]
    },
    {
     "data": {
      "text/plain": [
       "<Figure size 5000x5000 with 0 Axes>"
      ]
     },
     "metadata": {},
     "output_type": "display_data"
    }
   ],
   "source": [
    "%%time\n",
    "\n",
    "# landlab raster node crossmap to gridded cell id\n",
    "nodeXmap, raster = oxl.mappingfileToRaster(mappingfile=mappingfile1, spatial_resolution=0.06250, \n",
    "                                           minx=minx2, miny=miny2, maxx=maxx2, maxy=maxy2, dx=100, dy=100)"
   ]
  },
  {
   "cell_type": "code",
   "execution_count": 36,
   "metadata": {},
   "outputs": [
    {
     "data": {
      "text/plain": [
       "(766, 655)"
      ]
     },
     "execution_count": 36,
     "metadata": {},
     "output_type": "execute_result"
    }
   ],
   "source": [
    "# print the raster dimensions\n",
    "raster.shape"
   ]
  },
  {
   "cell_type": "code",
   "execution_count": 44,
   "metadata": {},
   "outputs": [
    {
     "data": {
      "text/plain": [
       "501730"
      ]
     },
     "execution_count": 44,
     "metadata": {},
     "output_type": "execute_result"
    }
   ],
   "source": [
    "raster.shape[0]*raster.shape[1]"
   ]
  },
  {
   "cell_type": "code",
   "execution_count": 45,
   "metadata": {},
   "outputs": [
    {
     "data": {
      "text/html": [
       "<div>\n",
       "<style scoped>\n",
       "    .dataframe tbody tr th:only-of-type {\n",
       "        vertical-align: middle;\n",
       "    }\n",
       "\n",
       "    .dataframe tbody tr th {\n",
       "        vertical-align: top;\n",
       "    }\n",
       "\n",
       "    .dataframe thead th {\n",
       "        text-align: right;\n",
       "    }\n",
       "</style>\n",
       "<table border=\"1\" class=\"dataframe\">\n",
       "  <thead>\n",
       "    <tr style=\"text-align: right;\">\n",
       "      <th></th>\n",
       "      <th>nodeid</th>\n",
       "      <th>raster_geom</th>\n",
       "      <th>index_right</th>\n",
       "      <th>FID</th>\n",
       "      <th>LAT</th>\n",
       "      <th>LONG_</th>\n",
       "      <th>ELEV</th>\n",
       "      <th>sp_WRF_NNRP_noBC_1970_1979</th>\n",
       "    </tr>\n",
       "  </thead>\n",
       "  <tbody>\n",
       "    <tr>\n",
       "      <th>233</th>\n",
       "      <td>233</td>\n",
       "      <td>POLYGON ((23400 0, 23400 100, 23300 100, 23300...</td>\n",
       "      <td>98.0</td>\n",
       "      <td>98.0</td>\n",
       "      <td>47.90625</td>\n",
       "      <td>-121.40625</td>\n",
       "      <td>866.0</td>\n",
       "      <td>/home/jovyan/work/notebooks/data/70b977e22af54...</td>\n",
       "    </tr>\n",
       "    <tr>\n",
       "      <th>234</th>\n",
       "      <td>234</td>\n",
       "      <td>POLYGON ((23500 0, 23500 100, 23400 100, 23400...</td>\n",
       "      <td>98.0</td>\n",
       "      <td>98.0</td>\n",
       "      <td>47.90625</td>\n",
       "      <td>-121.40625</td>\n",
       "      <td>866.0</td>\n",
       "      <td>/home/jovyan/work/notebooks/data/70b977e22af54...</td>\n",
       "    </tr>\n",
       "    <tr>\n",
       "      <th>235</th>\n",
       "      <td>235</td>\n",
       "      <td>POLYGON ((23600 0, 23600 100, 23500 100, 23500...</td>\n",
       "      <td>98.0</td>\n",
       "      <td>98.0</td>\n",
       "      <td>47.90625</td>\n",
       "      <td>-121.40625</td>\n",
       "      <td>866.0</td>\n",
       "      <td>/home/jovyan/work/notebooks/data/70b977e22af54...</td>\n",
       "    </tr>\n",
       "    <tr>\n",
       "      <th>236</th>\n",
       "      <td>236</td>\n",
       "      <td>POLYGON ((23700 0, 23700 100, 23600 100, 23600...</td>\n",
       "      <td>98.0</td>\n",
       "      <td>98.0</td>\n",
       "      <td>47.90625</td>\n",
       "      <td>-121.40625</td>\n",
       "      <td>866.0</td>\n",
       "      <td>/home/jovyan/work/notebooks/data/70b977e22af54...</td>\n",
       "    </tr>\n",
       "    <tr>\n",
       "      <th>237</th>\n",
       "      <td>237</td>\n",
       "      <td>POLYGON ((23800 0, 23800 100, 23700 100, 23700...</td>\n",
       "      <td>98.0</td>\n",
       "      <td>98.0</td>\n",
       "      <td>47.90625</td>\n",
       "      <td>-121.40625</td>\n",
       "      <td>866.0</td>\n",
       "      <td>/home/jovyan/work/notebooks/data/70b977e22af54...</td>\n",
       "    </tr>\n",
       "    <tr>\n",
       "      <th>238</th>\n",
       "      <td>238</td>\n",
       "      <td>POLYGON ((23900 0, 23900 100, 23800 100, 23800...</td>\n",
       "      <td>98.0</td>\n",
       "      <td>98.0</td>\n",
       "      <td>47.90625</td>\n",
       "      <td>-121.40625</td>\n",
       "      <td>866.0</td>\n",
       "      <td>/home/jovyan/work/notebooks/data/70b977e22af54...</td>\n",
       "    </tr>\n",
       "    <tr>\n",
       "      <th>239</th>\n",
       "      <td>239</td>\n",
       "      <td>POLYGON ((24000 0, 24000 100, 23900 100, 23900...</td>\n",
       "      <td>98.0</td>\n",
       "      <td>98.0</td>\n",
       "      <td>47.90625</td>\n",
       "      <td>-121.40625</td>\n",
       "      <td>866.0</td>\n",
       "      <td>/home/jovyan/work/notebooks/data/70b977e22af54...</td>\n",
       "    </tr>\n",
       "    <tr>\n",
       "      <th>240</th>\n",
       "      <td>240</td>\n",
       "      <td>POLYGON ((24100 0, 24100 100, 24000 100, 24000...</td>\n",
       "      <td>98.0</td>\n",
       "      <td>98.0</td>\n",
       "      <td>47.90625</td>\n",
       "      <td>-121.40625</td>\n",
       "      <td>866.0</td>\n",
       "      <td>/home/jovyan/work/notebooks/data/70b977e22af54...</td>\n",
       "    </tr>\n",
       "    <tr>\n",
       "      <th>241</th>\n",
       "      <td>241</td>\n",
       "      <td>POLYGON ((24200 0, 24200 100, 24100 100, 24100...</td>\n",
       "      <td>98.0</td>\n",
       "      <td>98.0</td>\n",
       "      <td>47.90625</td>\n",
       "      <td>-121.40625</td>\n",
       "      <td>866.0</td>\n",
       "      <td>/home/jovyan/work/notebooks/data/70b977e22af54...</td>\n",
       "    </tr>\n",
       "    <tr>\n",
       "      <th>242</th>\n",
       "      <td>242</td>\n",
       "      <td>POLYGON ((24300 0, 24300 100, 24200 100, 24200...</td>\n",
       "      <td>98.0</td>\n",
       "      <td>98.0</td>\n",
       "      <td>47.90625</td>\n",
       "      <td>-121.40625</td>\n",
       "      <td>866.0</td>\n",
       "      <td>/home/jovyan/work/notebooks/data/70b977e22af54...</td>\n",
       "    </tr>\n",
       "    <tr>\n",
       "      <th>243</th>\n",
       "      <td>243</td>\n",
       "      <td>POLYGON ((24400 0, 24400 100, 24300 100, 24300...</td>\n",
       "      <td>98.0</td>\n",
       "      <td>98.0</td>\n",
       "      <td>47.90625</td>\n",
       "      <td>-121.40625</td>\n",
       "      <td>866.0</td>\n",
       "      <td>/home/jovyan/work/notebooks/data/70b977e22af54...</td>\n",
       "    </tr>\n",
       "    <tr>\n",
       "      <th>244</th>\n",
       "      <td>244</td>\n",
       "      <td>POLYGON ((24500 0, 24500 100, 24400 100, 24400...</td>\n",
       "      <td>98.0</td>\n",
       "      <td>98.0</td>\n",
       "      <td>47.90625</td>\n",
       "      <td>-121.40625</td>\n",
       "      <td>866.0</td>\n",
       "      <td>/home/jovyan/work/notebooks/data/70b977e22af54...</td>\n",
       "    </tr>\n",
       "    <tr>\n",
       "      <th>245</th>\n",
       "      <td>245</td>\n",
       "      <td>POLYGON ((24600 0, 24600 100, 24500 100, 24500...</td>\n",
       "      <td>98.0</td>\n",
       "      <td>98.0</td>\n",
       "      <td>47.90625</td>\n",
       "      <td>-121.40625</td>\n",
       "      <td>866.0</td>\n",
       "      <td>/home/jovyan/work/notebooks/data/70b977e22af54...</td>\n",
       "    </tr>\n",
       "    <tr>\n",
       "      <th>246</th>\n",
       "      <td>246</td>\n",
       "      <td>POLYGON ((24700 0, 24700 100, 24600 100, 24600...</td>\n",
       "      <td>98.0</td>\n",
       "      <td>98.0</td>\n",
       "      <td>47.90625</td>\n",
       "      <td>-121.40625</td>\n",
       "      <td>866.0</td>\n",
       "      <td>/home/jovyan/work/notebooks/data/70b977e22af54...</td>\n",
       "    </tr>\n",
       "    <tr>\n",
       "      <th>247</th>\n",
       "      <td>247</td>\n",
       "      <td>POLYGON ((24800 0, 24800 100, 24700 100, 24700...</td>\n",
       "      <td>98.0</td>\n",
       "      <td>98.0</td>\n",
       "      <td>47.90625</td>\n",
       "      <td>-121.40625</td>\n",
       "      <td>866.0</td>\n",
       "      <td>/home/jovyan/work/notebooks/data/70b977e22af54...</td>\n",
       "    </tr>\n",
       "    <tr>\n",
       "      <th>248</th>\n",
       "      <td>248</td>\n",
       "      <td>POLYGON ((24900 0, 24900 100, 24800 100, 24800...</td>\n",
       "      <td>98.0</td>\n",
       "      <td>98.0</td>\n",
       "      <td>47.90625</td>\n",
       "      <td>-121.40625</td>\n",
       "      <td>866.0</td>\n",
       "      <td>/home/jovyan/work/notebooks/data/70b977e22af54...</td>\n",
       "    </tr>\n",
       "    <tr>\n",
       "      <th>249</th>\n",
       "      <td>249</td>\n",
       "      <td>POLYGON ((25000 0, 25000 100, 24900 100, 24900...</td>\n",
       "      <td>98.0</td>\n",
       "      <td>98.0</td>\n",
       "      <td>47.90625</td>\n",
       "      <td>-121.40625</td>\n",
       "      <td>866.0</td>\n",
       "      <td>/home/jovyan/work/notebooks/data/70b977e22af54...</td>\n",
       "    </tr>\n",
       "    <tr>\n",
       "      <th>250</th>\n",
       "      <td>250</td>\n",
       "      <td>POLYGON ((25100 0, 25100 100, 25000 100, 25000...</td>\n",
       "      <td>98.0</td>\n",
       "      <td>98.0</td>\n",
       "      <td>47.90625</td>\n",
       "      <td>-121.40625</td>\n",
       "      <td>866.0</td>\n",
       "      <td>/home/jovyan/work/notebooks/data/70b977e22af54...</td>\n",
       "    </tr>\n",
       "    <tr>\n",
       "      <th>251</th>\n",
       "      <td>251</td>\n",
       "      <td>POLYGON ((25200 0, 25200 100, 25100 100, 25100...</td>\n",
       "      <td>98.0</td>\n",
       "      <td>98.0</td>\n",
       "      <td>47.90625</td>\n",
       "      <td>-121.40625</td>\n",
       "      <td>866.0</td>\n",
       "      <td>/home/jovyan/work/notebooks/data/70b977e22af54...</td>\n",
       "    </tr>\n",
       "    <tr>\n",
       "      <th>252</th>\n",
       "      <td>252</td>\n",
       "      <td>POLYGON ((25300 0, 25300 100, 25200 100, 25200...</td>\n",
       "      <td>98.0</td>\n",
       "      <td>98.0</td>\n",
       "      <td>47.90625</td>\n",
       "      <td>-121.40625</td>\n",
       "      <td>866.0</td>\n",
       "      <td>/home/jovyan/work/notebooks/data/70b977e22af54...</td>\n",
       "    </tr>\n",
       "    <tr>\n",
       "      <th>253</th>\n",
       "      <td>253</td>\n",
       "      <td>POLYGON ((25400 0, 25400 100, 25300 100, 25300...</td>\n",
       "      <td>98.0</td>\n",
       "      <td>98.0</td>\n",
       "      <td>47.90625</td>\n",
       "      <td>-121.40625</td>\n",
       "      <td>866.0</td>\n",
       "      <td>/home/jovyan/work/notebooks/data/70b977e22af54...</td>\n",
       "    </tr>\n",
       "    <tr>\n",
       "      <th>254</th>\n",
       "      <td>254</td>\n",
       "      <td>POLYGON ((25500 0, 25500 100, 25400 100, 25400...</td>\n",
       "      <td>98.0</td>\n",
       "      <td>98.0</td>\n",
       "      <td>47.90625</td>\n",
       "      <td>-121.40625</td>\n",
       "      <td>866.0</td>\n",
       "      <td>/home/jovyan/work/notebooks/data/70b977e22af54...</td>\n",
       "    </tr>\n",
       "    <tr>\n",
       "      <th>255</th>\n",
       "      <td>255</td>\n",
       "      <td>POLYGON ((25600 0, 25600 100, 25500 100, 25500...</td>\n",
       "      <td>98.0</td>\n",
       "      <td>98.0</td>\n",
       "      <td>47.90625</td>\n",
       "      <td>-121.40625</td>\n",
       "      <td>866.0</td>\n",
       "      <td>/home/jovyan/work/notebooks/data/70b977e22af54...</td>\n",
       "    </tr>\n",
       "    <tr>\n",
       "      <th>256</th>\n",
       "      <td>256</td>\n",
       "      <td>POLYGON ((25700 0, 25700 100, 25600 100, 25600...</td>\n",
       "      <td>98.0</td>\n",
       "      <td>98.0</td>\n",
       "      <td>47.90625</td>\n",
       "      <td>-121.40625</td>\n",
       "      <td>866.0</td>\n",
       "      <td>/home/jovyan/work/notebooks/data/70b977e22af54...</td>\n",
       "    </tr>\n",
       "    <tr>\n",
       "      <th>257</th>\n",
       "      <td>257</td>\n",
       "      <td>POLYGON ((25800 0, 25800 100, 25700 100, 25700...</td>\n",
       "      <td>98.0</td>\n",
       "      <td>98.0</td>\n",
       "      <td>47.90625</td>\n",
       "      <td>-121.40625</td>\n",
       "      <td>866.0</td>\n",
       "      <td>/home/jovyan/work/notebooks/data/70b977e22af54...</td>\n",
       "    </tr>\n",
       "    <tr>\n",
       "      <th>258</th>\n",
       "      <td>258</td>\n",
       "      <td>POLYGON ((25900 0, 25900 100, 25800 100, 25800...</td>\n",
       "      <td>98.0</td>\n",
       "      <td>98.0</td>\n",
       "      <td>47.90625</td>\n",
       "      <td>-121.40625</td>\n",
       "      <td>866.0</td>\n",
       "      <td>/home/jovyan/work/notebooks/data/70b977e22af54...</td>\n",
       "    </tr>\n",
       "    <tr>\n",
       "      <th>259</th>\n",
       "      <td>259</td>\n",
       "      <td>POLYGON ((26000 0, 26000 100, 25900 100, 25900...</td>\n",
       "      <td>98.0</td>\n",
       "      <td>98.0</td>\n",
       "      <td>47.90625</td>\n",
       "      <td>-121.40625</td>\n",
       "      <td>866.0</td>\n",
       "      <td>/home/jovyan/work/notebooks/data/70b977e22af54...</td>\n",
       "    </tr>\n",
       "    <tr>\n",
       "      <th>260</th>\n",
       "      <td>260</td>\n",
       "      <td>POLYGON ((26100 0, 26100 100, 26000 100, 26000...</td>\n",
       "      <td>98.0</td>\n",
       "      <td>98.0</td>\n",
       "      <td>47.90625</td>\n",
       "      <td>-121.40625</td>\n",
       "      <td>866.0</td>\n",
       "      <td>/home/jovyan/work/notebooks/data/70b977e22af54...</td>\n",
       "    </tr>\n",
       "    <tr>\n",
       "      <th>261</th>\n",
       "      <td>261</td>\n",
       "      <td>POLYGON ((26200 0, 26200 100, 26100 100, 26100...</td>\n",
       "      <td>98.0</td>\n",
       "      <td>98.0</td>\n",
       "      <td>47.90625</td>\n",
       "      <td>-121.40625</td>\n",
       "      <td>866.0</td>\n",
       "      <td>/home/jovyan/work/notebooks/data/70b977e22af54...</td>\n",
       "    </tr>\n",
       "    <tr>\n",
       "      <th>262</th>\n",
       "      <td>262</td>\n",
       "      <td>POLYGON ((26300 0, 26300 100, 26200 100, 26200...</td>\n",
       "      <td>98.0</td>\n",
       "      <td>98.0</td>\n",
       "      <td>47.90625</td>\n",
       "      <td>-121.40625</td>\n",
       "      <td>866.0</td>\n",
       "      <td>/home/jovyan/work/notebooks/data/70b977e22af54...</td>\n",
       "    </tr>\n",
       "    <tr>\n",
       "      <th>...</th>\n",
       "      <td>...</td>\n",
       "      <td>...</td>\n",
       "      <td>...</td>\n",
       "      <td>...</td>\n",
       "      <td>...</td>\n",
       "      <td>...</td>\n",
       "      <td>...</td>\n",
       "      <td>...</td>\n",
       "    </tr>\n",
       "    <tr>\n",
       "      <th>499886</th>\n",
       "      <td>499886</td>\n",
       "      <td>POLYGON ((12200 76300, 12200 76400, 12100 7640...</td>\n",
       "      <td>0.0</td>\n",
       "      <td>0.0</td>\n",
       "      <td>48.53125</td>\n",
       "      <td>-121.59375</td>\n",
       "      <td>1113.0</td>\n",
       "      <td>/home/jovyan/work/notebooks/data/70b977e22af54...</td>\n",
       "    </tr>\n",
       "    <tr>\n",
       "      <th>499887</th>\n",
       "      <td>499887</td>\n",
       "      <td>POLYGON ((12300 76300, 12300 76400, 12200 7640...</td>\n",
       "      <td>0.0</td>\n",
       "      <td>0.0</td>\n",
       "      <td>48.53125</td>\n",
       "      <td>-121.59375</td>\n",
       "      <td>1113.0</td>\n",
       "      <td>/home/jovyan/work/notebooks/data/70b977e22af54...</td>\n",
       "    </tr>\n",
       "    <tr>\n",
       "      <th>499888</th>\n",
       "      <td>499888</td>\n",
       "      <td>POLYGON ((12400 76300, 12400 76400, 12300 7640...</td>\n",
       "      <td>0.0</td>\n",
       "      <td>0.0</td>\n",
       "      <td>48.53125</td>\n",
       "      <td>-121.59375</td>\n",
       "      <td>1113.0</td>\n",
       "      <td>/home/jovyan/work/notebooks/data/70b977e22af54...</td>\n",
       "    </tr>\n",
       "    <tr>\n",
       "      <th>499889</th>\n",
       "      <td>499889</td>\n",
       "      <td>POLYGON ((12500 76300, 12500 76400, 12400 7640...</td>\n",
       "      <td>0.0</td>\n",
       "      <td>0.0</td>\n",
       "      <td>48.53125</td>\n",
       "      <td>-121.59375</td>\n",
       "      <td>1113.0</td>\n",
       "      <td>/home/jovyan/work/notebooks/data/70b977e22af54...</td>\n",
       "    </tr>\n",
       "    <tr>\n",
       "      <th>499890</th>\n",
       "      <td>499890</td>\n",
       "      <td>POLYGON ((12600 76300, 12600 76400, 12500 7640...</td>\n",
       "      <td>0.0</td>\n",
       "      <td>0.0</td>\n",
       "      <td>48.53125</td>\n",
       "      <td>-121.59375</td>\n",
       "      <td>1113.0</td>\n",
       "      <td>/home/jovyan/work/notebooks/data/70b977e22af54...</td>\n",
       "    </tr>\n",
       "    <tr>\n",
       "      <th>499891</th>\n",
       "      <td>499891</td>\n",
       "      <td>POLYGON ((12700 76300, 12700 76400, 12600 7640...</td>\n",
       "      <td>0.0</td>\n",
       "      <td>0.0</td>\n",
       "      <td>48.53125</td>\n",
       "      <td>-121.59375</td>\n",
       "      <td>1113.0</td>\n",
       "      <td>/home/jovyan/work/notebooks/data/70b977e22af54...</td>\n",
       "    </tr>\n",
       "    <tr>\n",
       "      <th>499892</th>\n",
       "      <td>499892</td>\n",
       "      <td>POLYGON ((12800 76300, 12800 76400, 12700 7640...</td>\n",
       "      <td>0.0</td>\n",
       "      <td>0.0</td>\n",
       "      <td>48.53125</td>\n",
       "      <td>-121.59375</td>\n",
       "      <td>1113.0</td>\n",
       "      <td>/home/jovyan/work/notebooks/data/70b977e22af54...</td>\n",
       "    </tr>\n",
       "    <tr>\n",
       "      <th>499893</th>\n",
       "      <td>499893</td>\n",
       "      <td>POLYGON ((12900 76300, 12900 76400, 12800 7640...</td>\n",
       "      <td>0.0</td>\n",
       "      <td>0.0</td>\n",
       "      <td>48.53125</td>\n",
       "      <td>-121.59375</td>\n",
       "      <td>1113.0</td>\n",
       "      <td>/home/jovyan/work/notebooks/data/70b977e22af54...</td>\n",
       "    </tr>\n",
       "    <tr>\n",
       "      <th>499894</th>\n",
       "      <td>499894</td>\n",
       "      <td>POLYGON ((13000 76300, 13000 76400, 12900 7640...</td>\n",
       "      <td>0.0</td>\n",
       "      <td>0.0</td>\n",
       "      <td>48.53125</td>\n",
       "      <td>-121.59375</td>\n",
       "      <td>1113.0</td>\n",
       "      <td>/home/jovyan/work/notebooks/data/70b977e22af54...</td>\n",
       "    </tr>\n",
       "    <tr>\n",
       "      <th>499895</th>\n",
       "      <td>499895</td>\n",
       "      <td>POLYGON ((13100 76300, 13100 76400, 13000 7640...</td>\n",
       "      <td>0.0</td>\n",
       "      <td>0.0</td>\n",
       "      <td>48.53125</td>\n",
       "      <td>-121.59375</td>\n",
       "      <td>1113.0</td>\n",
       "      <td>/home/jovyan/work/notebooks/data/70b977e22af54...</td>\n",
       "    </tr>\n",
       "    <tr>\n",
       "      <th>499896</th>\n",
       "      <td>499896</td>\n",
       "      <td>POLYGON ((13200 76300, 13200 76400, 13100 7640...</td>\n",
       "      <td>0.0</td>\n",
       "      <td>0.0</td>\n",
       "      <td>48.53125</td>\n",
       "      <td>-121.59375</td>\n",
       "      <td>1113.0</td>\n",
       "      <td>/home/jovyan/work/notebooks/data/70b977e22af54...</td>\n",
       "    </tr>\n",
       "    <tr>\n",
       "      <th>499897</th>\n",
       "      <td>499897</td>\n",
       "      <td>POLYGON ((13300 76300, 13300 76400, 13200 7640...</td>\n",
       "      <td>0.0</td>\n",
       "      <td>0.0</td>\n",
       "      <td>48.53125</td>\n",
       "      <td>-121.59375</td>\n",
       "      <td>1113.0</td>\n",
       "      <td>/home/jovyan/work/notebooks/data/70b977e22af54...</td>\n",
       "    </tr>\n",
       "    <tr>\n",
       "      <th>499898</th>\n",
       "      <td>499898</td>\n",
       "      <td>POLYGON ((13400 76300, 13400 76400, 13300 7640...</td>\n",
       "      <td>0.0</td>\n",
       "      <td>0.0</td>\n",
       "      <td>48.53125</td>\n",
       "      <td>-121.59375</td>\n",
       "      <td>1113.0</td>\n",
       "      <td>/home/jovyan/work/notebooks/data/70b977e22af54...</td>\n",
       "    </tr>\n",
       "    <tr>\n",
       "      <th>499899</th>\n",
       "      <td>499899</td>\n",
       "      <td>POLYGON ((13500 76300, 13500 76400, 13400 7640...</td>\n",
       "      <td>0.0</td>\n",
       "      <td>0.0</td>\n",
       "      <td>48.53125</td>\n",
       "      <td>-121.59375</td>\n",
       "      <td>1113.0</td>\n",
       "      <td>/home/jovyan/work/notebooks/data/70b977e22af54...</td>\n",
       "    </tr>\n",
       "    <tr>\n",
       "      <th>499900</th>\n",
       "      <td>499900</td>\n",
       "      <td>POLYGON ((13600 76300, 13600 76400, 13500 7640...</td>\n",
       "      <td>0.0</td>\n",
       "      <td>0.0</td>\n",
       "      <td>48.53125</td>\n",
       "      <td>-121.59375</td>\n",
       "      <td>1113.0</td>\n",
       "      <td>/home/jovyan/work/notebooks/data/70b977e22af54...</td>\n",
       "    </tr>\n",
       "    <tr>\n",
       "      <th>499901</th>\n",
       "      <td>499901</td>\n",
       "      <td>POLYGON ((13700 76300, 13700 76400, 13600 7640...</td>\n",
       "      <td>0.0</td>\n",
       "      <td>0.0</td>\n",
       "      <td>48.53125</td>\n",
       "      <td>-121.59375</td>\n",
       "      <td>1113.0</td>\n",
       "      <td>/home/jovyan/work/notebooks/data/70b977e22af54...</td>\n",
       "    </tr>\n",
       "    <tr>\n",
       "      <th>499902</th>\n",
       "      <td>499902</td>\n",
       "      <td>POLYGON ((13800 76300, 13800 76400, 13700 7640...</td>\n",
       "      <td>0.0</td>\n",
       "      <td>0.0</td>\n",
       "      <td>48.53125</td>\n",
       "      <td>-121.59375</td>\n",
       "      <td>1113.0</td>\n",
       "      <td>/home/jovyan/work/notebooks/data/70b977e22af54...</td>\n",
       "    </tr>\n",
       "    <tr>\n",
       "      <th>499903</th>\n",
       "      <td>499903</td>\n",
       "      <td>POLYGON ((13900 76300, 13900 76400, 13800 7640...</td>\n",
       "      <td>0.0</td>\n",
       "      <td>0.0</td>\n",
       "      <td>48.53125</td>\n",
       "      <td>-121.59375</td>\n",
       "      <td>1113.0</td>\n",
       "      <td>/home/jovyan/work/notebooks/data/70b977e22af54...</td>\n",
       "    </tr>\n",
       "    <tr>\n",
       "      <th>499904</th>\n",
       "      <td>499904</td>\n",
       "      <td>POLYGON ((14000 76300, 14000 76400, 13900 7640...</td>\n",
       "      <td>0.0</td>\n",
       "      <td>0.0</td>\n",
       "      <td>48.53125</td>\n",
       "      <td>-121.59375</td>\n",
       "      <td>1113.0</td>\n",
       "      <td>/home/jovyan/work/notebooks/data/70b977e22af54...</td>\n",
       "    </tr>\n",
       "    <tr>\n",
       "      <th>499905</th>\n",
       "      <td>499905</td>\n",
       "      <td>POLYGON ((14100 76300, 14100 76400, 14000 7640...</td>\n",
       "      <td>0.0</td>\n",
       "      <td>0.0</td>\n",
       "      <td>48.53125</td>\n",
       "      <td>-121.59375</td>\n",
       "      <td>1113.0</td>\n",
       "      <td>/home/jovyan/work/notebooks/data/70b977e22af54...</td>\n",
       "    </tr>\n",
       "    <tr>\n",
       "      <th>499906</th>\n",
       "      <td>499906</td>\n",
       "      <td>POLYGON ((14200 76300, 14200 76400, 14100 7640...</td>\n",
       "      <td>0.0</td>\n",
       "      <td>0.0</td>\n",
       "      <td>48.53125</td>\n",
       "      <td>-121.59375</td>\n",
       "      <td>1113.0</td>\n",
       "      <td>/home/jovyan/work/notebooks/data/70b977e22af54...</td>\n",
       "    </tr>\n",
       "    <tr>\n",
       "      <th>499907</th>\n",
       "      <td>499907</td>\n",
       "      <td>POLYGON ((14300 76300, 14300 76400, 14200 7640...</td>\n",
       "      <td>0.0</td>\n",
       "      <td>0.0</td>\n",
       "      <td>48.53125</td>\n",
       "      <td>-121.59375</td>\n",
       "      <td>1113.0</td>\n",
       "      <td>/home/jovyan/work/notebooks/data/70b977e22af54...</td>\n",
       "    </tr>\n",
       "    <tr>\n",
       "      <th>500516</th>\n",
       "      <td>500516</td>\n",
       "      <td>POLYGON ((9700 76400, 9700 76500, 9600 76500, ...</td>\n",
       "      <td>0.0</td>\n",
       "      <td>0.0</td>\n",
       "      <td>48.53125</td>\n",
       "      <td>-121.59375</td>\n",
       "      <td>1113.0</td>\n",
       "      <td>/home/jovyan/work/notebooks/data/70b977e22af54...</td>\n",
       "    </tr>\n",
       "    <tr>\n",
       "      <th>500517</th>\n",
       "      <td>500517</td>\n",
       "      <td>POLYGON ((9800 76400, 9800 76500, 9700 76500, ...</td>\n",
       "      <td>0.0</td>\n",
       "      <td>0.0</td>\n",
       "      <td>48.53125</td>\n",
       "      <td>-121.59375</td>\n",
       "      <td>1113.0</td>\n",
       "      <td>/home/jovyan/work/notebooks/data/70b977e22af54...</td>\n",
       "    </tr>\n",
       "    <tr>\n",
       "      <th>500518</th>\n",
       "      <td>500518</td>\n",
       "      <td>POLYGON ((9900 76400, 9900 76500, 9800 76500, ...</td>\n",
       "      <td>0.0</td>\n",
       "      <td>0.0</td>\n",
       "      <td>48.53125</td>\n",
       "      <td>-121.59375</td>\n",
       "      <td>1113.0</td>\n",
       "      <td>/home/jovyan/work/notebooks/data/70b977e22af54...</td>\n",
       "    </tr>\n",
       "    <tr>\n",
       "      <th>500519</th>\n",
       "      <td>500519</td>\n",
       "      <td>POLYGON ((10000 76400, 10000 76500, 9900 76500...</td>\n",
       "      <td>0.0</td>\n",
       "      <td>0.0</td>\n",
       "      <td>48.53125</td>\n",
       "      <td>-121.59375</td>\n",
       "      <td>1113.0</td>\n",
       "      <td>/home/jovyan/work/notebooks/data/70b977e22af54...</td>\n",
       "    </tr>\n",
       "    <tr>\n",
       "      <th>500520</th>\n",
       "      <td>500520</td>\n",
       "      <td>POLYGON ((10100 76400, 10100 76500, 10000 7650...</td>\n",
       "      <td>0.0</td>\n",
       "      <td>0.0</td>\n",
       "      <td>48.53125</td>\n",
       "      <td>-121.59375</td>\n",
       "      <td>1113.0</td>\n",
       "      <td>/home/jovyan/work/notebooks/data/70b977e22af54...</td>\n",
       "    </tr>\n",
       "    <tr>\n",
       "      <th>500521</th>\n",
       "      <td>500521</td>\n",
       "      <td>POLYGON ((10200 76400, 10200 76500, 10100 7650...</td>\n",
       "      <td>0.0</td>\n",
       "      <td>0.0</td>\n",
       "      <td>48.53125</td>\n",
       "      <td>-121.59375</td>\n",
       "      <td>1113.0</td>\n",
       "      <td>/home/jovyan/work/notebooks/data/70b977e22af54...</td>\n",
       "    </tr>\n",
       "    <tr>\n",
       "      <th>500522</th>\n",
       "      <td>500522</td>\n",
       "      <td>POLYGON ((10300 76400, 10300 76500, 10200 7650...</td>\n",
       "      <td>0.0</td>\n",
       "      <td>0.0</td>\n",
       "      <td>48.53125</td>\n",
       "      <td>-121.59375</td>\n",
       "      <td>1113.0</td>\n",
       "      <td>/home/jovyan/work/notebooks/data/70b977e22af54...</td>\n",
       "    </tr>\n",
       "    <tr>\n",
       "      <th>501171</th>\n",
       "      <td>501171</td>\n",
       "      <td>POLYGON ((9700 76402, 9700 76502, 9600 76502, ...</td>\n",
       "      <td>0.0</td>\n",
       "      <td>0.0</td>\n",
       "      <td>48.53125</td>\n",
       "      <td>-121.59375</td>\n",
       "      <td>1113.0</td>\n",
       "      <td>/home/jovyan/work/notebooks/data/70b977e22af54...</td>\n",
       "    </tr>\n",
       "  </tbody>\n",
       "</table>\n",
       "<p>331114 rows × 8 columns</p>\n",
       "</div>"
      ],
      "text/plain": [
       "        nodeid                                        raster_geom  \\\n",
       "233        233  POLYGON ((23400 0, 23400 100, 23300 100, 23300...   \n",
       "234        234  POLYGON ((23500 0, 23500 100, 23400 100, 23400...   \n",
       "235        235  POLYGON ((23600 0, 23600 100, 23500 100, 23500...   \n",
       "236        236  POLYGON ((23700 0, 23700 100, 23600 100, 23600...   \n",
       "237        237  POLYGON ((23800 0, 23800 100, 23700 100, 23700...   \n",
       "238        238  POLYGON ((23900 0, 23900 100, 23800 100, 23800...   \n",
       "239        239  POLYGON ((24000 0, 24000 100, 23900 100, 23900...   \n",
       "240        240  POLYGON ((24100 0, 24100 100, 24000 100, 24000...   \n",
       "241        241  POLYGON ((24200 0, 24200 100, 24100 100, 24100...   \n",
       "242        242  POLYGON ((24300 0, 24300 100, 24200 100, 24200...   \n",
       "243        243  POLYGON ((24400 0, 24400 100, 24300 100, 24300...   \n",
       "244        244  POLYGON ((24500 0, 24500 100, 24400 100, 24400...   \n",
       "245        245  POLYGON ((24600 0, 24600 100, 24500 100, 24500...   \n",
       "246        246  POLYGON ((24700 0, 24700 100, 24600 100, 24600...   \n",
       "247        247  POLYGON ((24800 0, 24800 100, 24700 100, 24700...   \n",
       "248        248  POLYGON ((24900 0, 24900 100, 24800 100, 24800...   \n",
       "249        249  POLYGON ((25000 0, 25000 100, 24900 100, 24900...   \n",
       "250        250  POLYGON ((25100 0, 25100 100, 25000 100, 25000...   \n",
       "251        251  POLYGON ((25200 0, 25200 100, 25100 100, 25100...   \n",
       "252        252  POLYGON ((25300 0, 25300 100, 25200 100, 25200...   \n",
       "253        253  POLYGON ((25400 0, 25400 100, 25300 100, 25300...   \n",
       "254        254  POLYGON ((25500 0, 25500 100, 25400 100, 25400...   \n",
       "255        255  POLYGON ((25600 0, 25600 100, 25500 100, 25500...   \n",
       "256        256  POLYGON ((25700 0, 25700 100, 25600 100, 25600...   \n",
       "257        257  POLYGON ((25800 0, 25800 100, 25700 100, 25700...   \n",
       "258        258  POLYGON ((25900 0, 25900 100, 25800 100, 25800...   \n",
       "259        259  POLYGON ((26000 0, 26000 100, 25900 100, 25900...   \n",
       "260        260  POLYGON ((26100 0, 26100 100, 26000 100, 26000...   \n",
       "261        261  POLYGON ((26200 0, 26200 100, 26100 100, 26100...   \n",
       "262        262  POLYGON ((26300 0, 26300 100, 26200 100, 26200...   \n",
       "...        ...                                                ...   \n",
       "499886  499886  POLYGON ((12200 76300, 12200 76400, 12100 7640...   \n",
       "499887  499887  POLYGON ((12300 76300, 12300 76400, 12200 7640...   \n",
       "499888  499888  POLYGON ((12400 76300, 12400 76400, 12300 7640...   \n",
       "499889  499889  POLYGON ((12500 76300, 12500 76400, 12400 7640...   \n",
       "499890  499890  POLYGON ((12600 76300, 12600 76400, 12500 7640...   \n",
       "499891  499891  POLYGON ((12700 76300, 12700 76400, 12600 7640...   \n",
       "499892  499892  POLYGON ((12800 76300, 12800 76400, 12700 7640...   \n",
       "499893  499893  POLYGON ((12900 76300, 12900 76400, 12800 7640...   \n",
       "499894  499894  POLYGON ((13000 76300, 13000 76400, 12900 7640...   \n",
       "499895  499895  POLYGON ((13100 76300, 13100 76400, 13000 7640...   \n",
       "499896  499896  POLYGON ((13200 76300, 13200 76400, 13100 7640...   \n",
       "499897  499897  POLYGON ((13300 76300, 13300 76400, 13200 7640...   \n",
       "499898  499898  POLYGON ((13400 76300, 13400 76400, 13300 7640...   \n",
       "499899  499899  POLYGON ((13500 76300, 13500 76400, 13400 7640...   \n",
       "499900  499900  POLYGON ((13600 76300, 13600 76400, 13500 7640...   \n",
       "499901  499901  POLYGON ((13700 76300, 13700 76400, 13600 7640...   \n",
       "499902  499902  POLYGON ((13800 76300, 13800 76400, 13700 7640...   \n",
       "499903  499903  POLYGON ((13900 76300, 13900 76400, 13800 7640...   \n",
       "499904  499904  POLYGON ((14000 76300, 14000 76400, 13900 7640...   \n",
       "499905  499905  POLYGON ((14100 76300, 14100 76400, 14000 7640...   \n",
       "499906  499906  POLYGON ((14200 76300, 14200 76400, 14100 7640...   \n",
       "499907  499907  POLYGON ((14300 76300, 14300 76400, 14200 7640...   \n",
       "500516  500516  POLYGON ((9700 76400, 9700 76500, 9600 76500, ...   \n",
       "500517  500517  POLYGON ((9800 76400, 9800 76500, 9700 76500, ...   \n",
       "500518  500518  POLYGON ((9900 76400, 9900 76500, 9800 76500, ...   \n",
       "500519  500519  POLYGON ((10000 76400, 10000 76500, 9900 76500...   \n",
       "500520  500520  POLYGON ((10100 76400, 10100 76500, 10000 7650...   \n",
       "500521  500521  POLYGON ((10200 76400, 10200 76500, 10100 7650...   \n",
       "500522  500522  POLYGON ((10300 76400, 10300 76500, 10200 7650...   \n",
       "501171  501171  POLYGON ((9700 76402, 9700 76502, 9600 76502, ...   \n",
       "\n",
       "        index_right   FID       LAT      LONG_    ELEV  \\\n",
       "233            98.0  98.0  47.90625 -121.40625   866.0   \n",
       "234            98.0  98.0  47.90625 -121.40625   866.0   \n",
       "235            98.0  98.0  47.90625 -121.40625   866.0   \n",
       "236            98.0  98.0  47.90625 -121.40625   866.0   \n",
       "237            98.0  98.0  47.90625 -121.40625   866.0   \n",
       "238            98.0  98.0  47.90625 -121.40625   866.0   \n",
       "239            98.0  98.0  47.90625 -121.40625   866.0   \n",
       "240            98.0  98.0  47.90625 -121.40625   866.0   \n",
       "241            98.0  98.0  47.90625 -121.40625   866.0   \n",
       "242            98.0  98.0  47.90625 -121.40625   866.0   \n",
       "243            98.0  98.0  47.90625 -121.40625   866.0   \n",
       "244            98.0  98.0  47.90625 -121.40625   866.0   \n",
       "245            98.0  98.0  47.90625 -121.40625   866.0   \n",
       "246            98.0  98.0  47.90625 -121.40625   866.0   \n",
       "247            98.0  98.0  47.90625 -121.40625   866.0   \n",
       "248            98.0  98.0  47.90625 -121.40625   866.0   \n",
       "249            98.0  98.0  47.90625 -121.40625   866.0   \n",
       "250            98.0  98.0  47.90625 -121.40625   866.0   \n",
       "251            98.0  98.0  47.90625 -121.40625   866.0   \n",
       "252            98.0  98.0  47.90625 -121.40625   866.0   \n",
       "253            98.0  98.0  47.90625 -121.40625   866.0   \n",
       "254            98.0  98.0  47.90625 -121.40625   866.0   \n",
       "255            98.0  98.0  47.90625 -121.40625   866.0   \n",
       "256            98.0  98.0  47.90625 -121.40625   866.0   \n",
       "257            98.0  98.0  47.90625 -121.40625   866.0   \n",
       "258            98.0  98.0  47.90625 -121.40625   866.0   \n",
       "259            98.0  98.0  47.90625 -121.40625   866.0   \n",
       "260            98.0  98.0  47.90625 -121.40625   866.0   \n",
       "261            98.0  98.0  47.90625 -121.40625   866.0   \n",
       "262            98.0  98.0  47.90625 -121.40625   866.0   \n",
       "...             ...   ...       ...        ...     ...   \n",
       "499886          0.0   0.0  48.53125 -121.59375  1113.0   \n",
       "499887          0.0   0.0  48.53125 -121.59375  1113.0   \n",
       "499888          0.0   0.0  48.53125 -121.59375  1113.0   \n",
       "499889          0.0   0.0  48.53125 -121.59375  1113.0   \n",
       "499890          0.0   0.0  48.53125 -121.59375  1113.0   \n",
       "499891          0.0   0.0  48.53125 -121.59375  1113.0   \n",
       "499892          0.0   0.0  48.53125 -121.59375  1113.0   \n",
       "499893          0.0   0.0  48.53125 -121.59375  1113.0   \n",
       "499894          0.0   0.0  48.53125 -121.59375  1113.0   \n",
       "499895          0.0   0.0  48.53125 -121.59375  1113.0   \n",
       "499896          0.0   0.0  48.53125 -121.59375  1113.0   \n",
       "499897          0.0   0.0  48.53125 -121.59375  1113.0   \n",
       "499898          0.0   0.0  48.53125 -121.59375  1113.0   \n",
       "499899          0.0   0.0  48.53125 -121.59375  1113.0   \n",
       "499900          0.0   0.0  48.53125 -121.59375  1113.0   \n",
       "499901          0.0   0.0  48.53125 -121.59375  1113.0   \n",
       "499902          0.0   0.0  48.53125 -121.59375  1113.0   \n",
       "499903          0.0   0.0  48.53125 -121.59375  1113.0   \n",
       "499904          0.0   0.0  48.53125 -121.59375  1113.0   \n",
       "499905          0.0   0.0  48.53125 -121.59375  1113.0   \n",
       "499906          0.0   0.0  48.53125 -121.59375  1113.0   \n",
       "499907          0.0   0.0  48.53125 -121.59375  1113.0   \n",
       "500516          0.0   0.0  48.53125 -121.59375  1113.0   \n",
       "500517          0.0   0.0  48.53125 -121.59375  1113.0   \n",
       "500518          0.0   0.0  48.53125 -121.59375  1113.0   \n",
       "500519          0.0   0.0  48.53125 -121.59375  1113.0   \n",
       "500520          0.0   0.0  48.53125 -121.59375  1113.0   \n",
       "500521          0.0   0.0  48.53125 -121.59375  1113.0   \n",
       "500522          0.0   0.0  48.53125 -121.59375  1113.0   \n",
       "501171          0.0   0.0  48.53125 -121.59375  1113.0   \n",
       "\n",
       "                               sp_WRF_NNRP_noBC_1970_1979  \n",
       "233     /home/jovyan/work/notebooks/data/70b977e22af54...  \n",
       "234     /home/jovyan/work/notebooks/data/70b977e22af54...  \n",
       "235     /home/jovyan/work/notebooks/data/70b977e22af54...  \n",
       "236     /home/jovyan/work/notebooks/data/70b977e22af54...  \n",
       "237     /home/jovyan/work/notebooks/data/70b977e22af54...  \n",
       "238     /home/jovyan/work/notebooks/data/70b977e22af54...  \n",
       "239     /home/jovyan/work/notebooks/data/70b977e22af54...  \n",
       "240     /home/jovyan/work/notebooks/data/70b977e22af54...  \n",
       "241     /home/jovyan/work/notebooks/data/70b977e22af54...  \n",
       "242     /home/jovyan/work/notebooks/data/70b977e22af54...  \n",
       "243     /home/jovyan/work/notebooks/data/70b977e22af54...  \n",
       "244     /home/jovyan/work/notebooks/data/70b977e22af54...  \n",
       "245     /home/jovyan/work/notebooks/data/70b977e22af54...  \n",
       "246     /home/jovyan/work/notebooks/data/70b977e22af54...  \n",
       "247     /home/jovyan/work/notebooks/data/70b977e22af54...  \n",
       "248     /home/jovyan/work/notebooks/data/70b977e22af54...  \n",
       "249     /home/jovyan/work/notebooks/data/70b977e22af54...  \n",
       "250     /home/jovyan/work/notebooks/data/70b977e22af54...  \n",
       "251     /home/jovyan/work/notebooks/data/70b977e22af54...  \n",
       "252     /home/jovyan/work/notebooks/data/70b977e22af54...  \n",
       "253     /home/jovyan/work/notebooks/data/70b977e22af54...  \n",
       "254     /home/jovyan/work/notebooks/data/70b977e22af54...  \n",
       "255     /home/jovyan/work/notebooks/data/70b977e22af54...  \n",
       "256     /home/jovyan/work/notebooks/data/70b977e22af54...  \n",
       "257     /home/jovyan/work/notebooks/data/70b977e22af54...  \n",
       "258     /home/jovyan/work/notebooks/data/70b977e22af54...  \n",
       "259     /home/jovyan/work/notebooks/data/70b977e22af54...  \n",
       "260     /home/jovyan/work/notebooks/data/70b977e22af54...  \n",
       "261     /home/jovyan/work/notebooks/data/70b977e22af54...  \n",
       "262     /home/jovyan/work/notebooks/data/70b977e22af54...  \n",
       "...                                                   ...  \n",
       "499886  /home/jovyan/work/notebooks/data/70b977e22af54...  \n",
       "499887  /home/jovyan/work/notebooks/data/70b977e22af54...  \n",
       "499888  /home/jovyan/work/notebooks/data/70b977e22af54...  \n",
       "499889  /home/jovyan/work/notebooks/data/70b977e22af54...  \n",
       "499890  /home/jovyan/work/notebooks/data/70b977e22af54...  \n",
       "499891  /home/jovyan/work/notebooks/data/70b977e22af54...  \n",
       "499892  /home/jovyan/work/notebooks/data/70b977e22af54...  \n",
       "499893  /home/jovyan/work/notebooks/data/70b977e22af54...  \n",
       "499894  /home/jovyan/work/notebooks/data/70b977e22af54...  \n",
       "499895  /home/jovyan/work/notebooks/data/70b977e22af54...  \n",
       "499896  /home/jovyan/work/notebooks/data/70b977e22af54...  \n",
       "499897  /home/jovyan/work/notebooks/data/70b977e22af54...  \n",
       "499898  /home/jovyan/work/notebooks/data/70b977e22af54...  \n",
       "499899  /home/jovyan/work/notebooks/data/70b977e22af54...  \n",
       "499900  /home/jovyan/work/notebooks/data/70b977e22af54...  \n",
       "499901  /home/jovyan/work/notebooks/data/70b977e22af54...  \n",
       "499902  /home/jovyan/work/notebooks/data/70b977e22af54...  \n",
       "499903  /home/jovyan/work/notebooks/data/70b977e22af54...  \n",
       "499904  /home/jovyan/work/notebooks/data/70b977e22af54...  \n",
       "499905  /home/jovyan/work/notebooks/data/70b977e22af54...  \n",
       "499906  /home/jovyan/work/notebooks/data/70b977e22af54...  \n",
       "499907  /home/jovyan/work/notebooks/data/70b977e22af54...  \n",
       "500516  /home/jovyan/work/notebooks/data/70b977e22af54...  \n",
       "500517  /home/jovyan/work/notebooks/data/70b977e22af54...  \n",
       "500518  /home/jovyan/work/notebooks/data/70b977e22af54...  \n",
       "500519  /home/jovyan/work/notebooks/data/70b977e22af54...  \n",
       "500520  /home/jovyan/work/notebooks/data/70b977e22af54...  \n",
       "500521  /home/jovyan/work/notebooks/data/70b977e22af54...  \n",
       "500522  /home/jovyan/work/notebooks/data/70b977e22af54...  \n",
       "501171  /home/jovyan/work/notebooks/data/70b977e22af54...  \n",
       "\n",
       "[331114 rows x 8 columns]"
      ]
     },
     "execution_count": 45,
     "metadata": {},
     "output_type": "execute_result"
    }
   ],
   "source": [
    "# print the children-to-parent crossmap (raster nodeid to mappingfile FID)\n",
    "nodeXmap[pd.notnull(nodeXmap['FID'])]"
   ]
  },
  {
   "cell_type": "code",
   "execution_count": 47,
   "metadata": {},
   "outputs": [
    {
     "data": {
      "text/plain": [
       "<matplotlib.axes._subplots.AxesSubplot at 0x7f9e997ed198>"
      ]
     },
     "execution_count": 47,
     "metadata": {},
     "output_type": "execute_result"
    },
    {
     "data": {
      "image/png": "[encoded data removed]",
      "text/plain": [
       "<Figure size 720x720 with 1 Axes>"
      ]
     },
     "metadata": {},
     "output_type": "display_data"
    }
   ],
   "source": [
    "%%time\n",
    "nodeXmap.plot(column='ELEV', figsize=(10,10))"
   ]
  },
  {
   "cell_type": "code",
   "execution_count": null,
   "metadata": {},
   "outputs": [],
   "source": [
    "vector = ogh.rasterVector(vardf=ltm['meanbymonthsum_PREC_sp_WRF_NNRP_noBC_1970_1979'],\n",
    "                          vardf_dateindex=3,\n",
    "                          crossmap=nodeXmap,\n",
    "                          nodata=-9999)\n",
    "vector"
   ]
  },
  {
   "cell_type": "code",
   "execution_count": null,
   "metadata": {},
   "outputs": [],
   "source": [
    "# this is one decade\n",
    "inputvectors = {'precip_met': np.tile(ltm['meandaily_PREC_sp_WRF_NNRP_noBC_1970_1979'], 15000),\n",
    "                'Tmax_met': np.tile(ltm['meandaily_TMAX_sp_WRF_NNRP_noBC_1970_1979'], 15000),\n",
    "                'Tmin_met': np.tile(ltm['meandaily_TMIN_sp_WRF_NNRP_noBC_1970_1979'], 15000)}\n",
    "inputvectors"
   ]
  },
  {
   "cell_type": "code",
   "execution_count": null,
   "metadata": {},
   "outputs": [],
   "source": [
    "%%time\n",
    "(VegType_low, yrs_low, debug_low) = run_ecohydrology_model(raster,\n",
    "                                                           input_data=inputvectors,\n",
    "                                                           input_file=InputFile,\n",
    "                                                           synthetic_storms=False,\n",
    "                                                           number_of_storms=20000,\n",
    "                                                           pet_method='PriestleyTaylor')"
   ]
  },
  {
   "cell_type": "markdown",
   "metadata": {},
   "source": [
    "### Visualize the \"average monthly total precipitation\""
   ]
  },
  {
   "cell_type": "markdown",
   "metadata": {},
   "source": [
    "## 5. Save the results back into HydroShare\n",
    "<a name=\"creation\"></a>\n",
    "\n",
    "Using the `hs_utils` library, the results of the Geoprocessing steps above can be saved back into HydroShare.  First, define all of the required metadata for resource creation, i.e. *title*, *abstract*, *keywords*, *content files*.  In addition, we must define the type of resource that will be created, in this case *genericresource*.  \n",
    "\n",
    "***Note:*** Make sure you save the notebook at this point, so that all notebook changes will be saved into the new HydroShare resource."
   ]
  },
  {
   "cell_type": "markdown",
   "metadata": {},
   "source": [
    "### Total files and image to migrate"
   ]
  },
  {
   "cell_type": "code",
   "execution_count": null,
   "metadata": {},
   "outputs": [],
   "source": [
    "len(files)"
   ]
  },
  {
   "cell_type": "code",
   "execution_count": null,
   "metadata": {},
   "outputs": [],
   "source": [
    "# for each file downloaded onto the server folder, move to a new HydroShare Generic Resource\n",
    "title = 'Computed spatial-temporal summaries of two gridded data product data sets for Sauk-Suiattle'\n",
    "abstract = 'This resource contains the computed summaries for the Meteorology data from Livneh et al. 2013 and the WRF data from Salathe et al. 2014.'\n",
    "keywords = ['Sauk-Suiattle', 'Livneh 2013', 'Salathe 2014','climate','hydromet','watershed', 'visualizations and summaries'] \n",
    "rtype = 'genericresource'\n",
    "\n",
    "# create the new resource\n",
    "resource_id = hs.createHydroShareResource(abstract, \n",
    "                                          title,\n",
    "                                          keywords=keywords, \n",
    "                                          resource_type=rtype, \n",
    "                                          content_files=files, \n",
    "                                          public=False)"
   ]
  },
  {
   "cell_type": "code",
   "execution_count": null,
   "metadata": {},
   "outputs": [],
   "source": [
    "df=df_bc45\n",
    "models=[model for model in df.columns if model not in ['Date','Year','Month','Day']]\n",
    "time=time1\n",
    "\n"
   ]
  },
  {
   "cell_type": "code",
   "execution_count": null,
   "metadata": {},
   "outputs": [],
   "source": [
    "import pandas as pd\n",
    "\n",
    "t=pd.DataFrame({'test':['terrific']})"
   ]
  },
  {
   "cell_type": "code",
   "execution_count": null,
   "metadata": {},
   "outputs": [],
   "source": [
    "t1=pd.DataFrame({'test':['terrific']})\n",
    "t2=pd.DataFrame({'test':['terrific']})\n",
    "t3=pd.DataFrame({'test':['terrific']})\n",
    "t4=pd.DataFrame({'test':['terrific']})\n",
    "\n",
    "for somedf in (t1, t2, t3, t4):\n",
    "    if somedf in locals():\n",
    "        print(locals())\n",
    "    list(somedf.to_dict().keys())"
   ]
  },
  {
   "cell_type": "code",
   "execution_count": null,
   "metadata": {},
   "outputs": [],
   "source": [
    "for each in [t1,t2,t2,t4]:\n",
    "    if each in globals().keys():\n",
    "        print(each)"
   ]
  },
  {
   "cell_type": "code",
   "execution_count": null,
   "metadata": {},
   "outputs": [],
   "source": [
    "y = eval(t)\n",
    "str(y)"
   ]
  }
 ],
 "metadata": {
  "anaconda-cloud": {},
  "kernelspec": {
   "display_name": "Python 3",
   "language": "python",
   "name": "python3"
  },
  "language_info": {
   "codemirror_mode": {
    "name": "ipython",
    "version": 3
   },
   "file_extension": ".py",
   "mimetype": "text/x-python",
   "name": "python",
   "nbconvert_exporter": "python",
   "pygments_lexer": "ipython3",
   "version": "3.6.6"
  }
 },
 "nbformat": 4,
 "nbformat_minor": 1
}
